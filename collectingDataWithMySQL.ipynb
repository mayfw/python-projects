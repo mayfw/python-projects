{
 "cells": [
  {
   "cell_type": "code",
   "execution_count": 12,
   "metadata": {
    "scrolled": true
   },
   "outputs": [],
   "source": [
    "import mysql.connector"
   ]
  },
  {
   "cell_type": "code",
   "execution_count": 19,
   "metadata": {
    "scrolled": true
   },
   "outputs": [
    {
     "name": "stdout",
     "output_type": "stream",
     "text": [
      "<mysql.connector.connection.MySQLConnection object at 0x7fd5a9694dc0>\n",
      "('igti',)\n",
      "('information_schema',)\n",
      "('mysql',)\n",
      "('performance_schema',)\n",
      "('sys',)\n"
     ]
    }
   ],
   "source": [
    "# connect to MySQL\n",
    "mydb = mysql.connector.connect(\n",
    "    host = 'localhost',\n",
    "    user = 'root',\n",
    "    password = 'admin123',\n",
    "    auth_plugin = 'mysql_native_password')\n",
    "\n",
    "print(mydb)\n",
    "\n",
    "mycursor = mydb.cursor(buffered = True)\n",
    "\n",
    "mycursor.execute(\"SHOW DATABASES\")\n",
    "\n",
    "for db in mycursor:\n",
    "    print(db)"
   ]
  },
  {
   "cell_type": "code",
   "execution_count": 20,
   "metadata": {},
   "outputs": [
    {
     "name": "stdout",
     "output_type": "stream",
     "text": [
      "('igti',)\n",
      "('information_schema',)\n",
      "('mysql',)\n",
      "('performance_schema',)\n",
      "('sys',)\n"
     ]
    }
   ],
   "source": [
    "# create table\n",
    "mycursor.execute(\"USE igti;\")\n",
    "\n",
    "mycursor.execute(\"CREATE TABLE actors (\\\n",
    "    id int NOT NULL AUTO_INCREMENT,\\\n",
    "    name varchar(150) NOT NULL,\\\n",
    "    age int NOT NULL,\\\n",
    "    PRIMARY KEY (id));\")\n",
    "\n",
    "mycursor.execute(\"SHOW TABLES\")\n",
    "\n",
    "for db in mycursor:\n",
    "    print(db)"
   ]
  },
  {
   "cell_type": "code",
   "execution_count": 22,
   "metadata": {},
   "outputs": [
    {
     "name": "stdout",
     "output_type": "stream",
     "text": [
      "1 Register(s) inserted\n"
     ]
    }
   ],
   "source": [
    "# insert in the table\n",
    "query = \"INSERT INTO actors (name, age) VALUES (%s, %s)\"\n",
    "values = (\"Tom Hanks\", 70)\n",
    "\n",
    "mycursor.execute(query, values)\n",
    "\n",
    "mydb.commit()\n",
    "\n",
    "print(mycursor.rowcount, \"Register(s) inserted\")"
   ]
  },
  {
   "cell_type": "code",
   "execution_count": 23,
   "metadata": {},
   "outputs": [
    {
     "name": "stdout",
     "output_type": "stream",
     "text": [
      "2 Register(s) inserted\n"
     ]
    }
   ],
   "source": [
    "# inserting multiple records\n",
    "values = [(\"Jim Carrey\", 50), (\"Ellen Pompeo\", 45)]\n",
    "\n",
    "mycursor.executemany(query, values)\n",
    "\n",
    "mydb.commit()\n",
    "\n",
    "print(mycursor.rowcount, \"Register(s) inserted\")"
   ]
  },
  {
   "cell_type": "code",
   "execution_count": 24,
   "metadata": {},
   "outputs": [
    {
     "name": "stdout",
     "output_type": "stream",
     "text": [
      "(1, 'Tom Hanks', 70)\n",
      "(2, 'Jim Carrey', 50)\n",
      "(3, 'Ellen Pompeo', 45)\n"
     ]
    }
   ],
   "source": [
    "# select\n",
    "mycursor.execute(\"SELECT * FROM actors\")\n",
    "\n",
    "myresult = mycursor.fetchall()\n",
    "\n",
    "for mydata in myresult:\n",
    "    print(mydata)"
   ]
  },
  {
   "cell_type": "code",
   "execution_count": 27,
   "metadata": {},
   "outputs": [
    {
     "name": "stdout",
     "output_type": "stream",
     "text": [
      "['5', 'Leonardo Dicaprio', '45']\n",
      "Leonardo Dicaprio\n",
      "['6', 'Jenifer Aniston', '48']\n",
      "Jenifer Aniston\n",
      "['7', 'Fernanda Torres', '40']\n",
      "Fernanda Torres\n",
      "['8', 'Noah Centineo', '24']\n",
      "Noah Centineo\n",
      "1 Register(s) inserted\n"
     ]
    }
   ],
   "source": [
    "# insert from csv without Pandas\n",
    "import csv\n",
    "\n",
    "filename = '/Users/maywong/Documents/bootcamp/datasets/csv/result.csv'\n",
    "\n",
    "with open(filename) as incsvfile:\n",
    "    reader = csv.reader(incsvfile, delimiter = ',')\n",
    "    next(reader, None)\n",
    "    for line in reader:\n",
    "        print(line)\n",
    "        mycursor.execute(\"INSERT INTO actors (id, name, age) VALUES (%s, %s, %s)\", line)\n",
    "        \n",
    "mydb.commit()\n",
    "\n",
    "incsvfile.close()"
   ]
  },
  {
   "cell_type": "code",
   "execution_count": 28,
   "metadata": {},
   "outputs": [],
   "source": [
    "mydb.close()"
   ]
  },
  {
   "cell_type": "code",
   "execution_count": null,
   "metadata": {},
   "outputs": [],
   "source": []
  }
 ],
 "metadata": {
  "kernelspec": {
   "display_name": "Python 3",
   "language": "python",
   "name": "python3"
  },
  "language_info": {
   "codemirror_mode": {
    "name": "ipython",
    "version": 3
   },
   "file_extension": ".py",
   "mimetype": "text/x-python",
   "name": "python",
   "nbconvert_exporter": "python",
   "pygments_lexer": "ipython3",
   "version": "3.8.3"
  }
 },
 "nbformat": 4,
 "nbformat_minor": 4
}
