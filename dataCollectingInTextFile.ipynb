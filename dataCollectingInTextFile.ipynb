{
 "cells": [
  {
   "cell_type": "code",
   "execution_count": 1,
   "metadata": {},
   "outputs": [],
   "source": [
    "import os \n",
    "from datetime import datetime"
   ]
  },
  {
   "cell_type": "code",
   "execution_count": 2,
   "metadata": {},
   "outputs": [],
   "source": [
    "# format print function\n",
    "\n",
    "class color:\n",
    "    PURPLE = '\\033[95m'\n",
    "    CYAN = '\\033[96m'\n",
    "    DARKCYAN = '\\033[36m'\n",
    "    BLUE = '\\033[94m'\n",
    "    GREEN = '\\033[92m'\n",
    "    YELLOW = '\\033[93m'\n",
    "    RED = '\\033[91m'\n",
    "    ORANGE = '\\033[33m'\n",
    "    BOLD = '\\033[1m'\n",
    "    UNDERLINE = '\\033[4m'\n",
    "    END = '\\033[0m'"
   ]
  },
  {
   "cell_type": "code",
   "execution_count": 19,
   "metadata": {},
   "outputs": [],
   "source": [
    "# return Datasets directory \n",
    "\n",
    "def setDatasetPath():\n",
    "    return '/Users/maywong/Documents/bootcamp/datasets/txt'\n",
    "\n",
    "# ------------------------------------------------------------------------\n",
    "# read file (read the entire file)\n",
    "\n",
    "def readFileContent(filename):\n",
    "    \n",
    "    try:\n",
    "        \n",
    "        fileobject = open(filename, \"r\", encoding = 'utf-8')\n",
    "        print(color.BOLD + color.BLUE + '\\nThe content of the file ' + filename + ' is:\\n' + color.END)\n",
    "        \n",
    "        filecontents = fileobject.read()\n",
    "        print(filecontents)\n",
    "            \n",
    "        fileobject.close()\n",
    "        \n",
    "    except FileNotFoundError:\n",
    "        \n",
    "        print(color.BOLD + color.RED + '\\nERROR WHILE TRYING READ THE FILE! \\nThe file ' + filename + 'doesn\\'t exist!' + color.END)\n",
    "        \n",
    "# ------------------------------------------------------------------------\n",
    "# read file (read line by line and add to a list)\n",
    "\n",
    "def readFileLines(filename):\n",
    "    \n",
    "    try:\n",
    "        \n",
    "        print(color.BOLD + color.BLUE + '\\nThe lines of the file ' + filename + ' are:\\n' + color.END)\n",
    "        fileobject = open(filename, \"r\", encoding = 'utf-8')\n",
    "        filelines = fileobject.readlines()\n",
    "        \n",
    "        numline = 1\n",
    "        \n",
    "        for line in filelines:\n",
    "            print('Line ' + str(numline) + ': ' + line, end = '')\n",
    "            numline = numline + 1\n",
    "            \n",
    "        fileobject.close()\n",
    "        \n",
    "    except FileNotFoundError:\n",
    "        \n",
    "        print(color.BOLD + color.RED + '\\nERROR WHILE TRYING READ THE FILE! \\nThe file ' + filename + 'doesn\\'t exist!' + color.END)\n",
    "\n",
    "# ------------------------------------------------------------------------\n",
    "# alter file (append to an existing file or create a new file)\n",
    "\n",
    "def appendFile(filename):\n",
    "    fileobject = open(filename, \"a\", encoding = 'utf-8')\n",
    "    \n",
    "    fileobject.write('\\n')\n",
    "    \n",
    "    fileobject.write('\\nHello World!')\n",
    "    now = datetime.now()\n",
    "    date_time = now.strftime('%d/%m/%Y, %H:%M:%S')\n",
    "    fileobject.write('\\nToday is: ' + str(date_time))\n",
    "    \n",
    "    fileobject.close()\n",
    "    \n",
    "# ------------------------------------------------------------------------\n",
    "# write file (overwrite an existing file or create a new file)\n",
    "\n",
    "def writeFile(filename):\n",
    "    fileobject = open(filename, \"w\", encoding = 'utf-8')\n",
    "    fileobject.write(\"File \" + filename + ' is opened in write mode (w)')\n",
    "    \n",
    "    now = datetime.now()\n",
    "    date_time = now.strftime('%d/%m/%Y, %H:%M:%S')\n",
    "    fileobject.write('\\nToday is: ' + str(date_time))\n",
    "    \n",
    "    fileobject.close()\n",
    "    \n",
    "# ------------------------------------------------------------------------\n",
    "# create file (create file, will throw an error if the file already exists)\n",
    "\n",
    "def createFile(filename):\n",
    "    try:\n",
    "        \n",
    "        fileobject = open(filename, \"x\", encoding = 'utf-8')\n",
    "        fileobject.write('This is a new file created using creation mode (x)')\n",
    "        fileobject.close()\n",
    "        \n",
    "    except FileNotFoundError:\n",
    "        \n",
    "        print(color.BOLD + color.RED + '\\nERROR WHILE TRYING TO CREATE THE FILE! \\nThe file ' + filename + 'already exist!' + color.END)\n",
    "        "
   ]
  },
  {
   "cell_type": "code",
   "execution_count": 20,
   "metadata": {},
   "outputs": [],
   "source": [
    "# define file directory\n",
    "\n",
    "datasetPath = setDatasetPath()"
   ]
  },
  {
   "cell_type": "code",
   "execution_count": 21,
   "metadata": {},
   "outputs": [
    {
     "name": "stdout",
     "output_type": "stream",
     "text": [
      "\u001b[96mThe following file will be read: \u001b[0m/Users/maywong/Documents/bootcamp/datasets/txt/fileTextRead.txt\n"
     ]
    }
   ],
   "source": [
    "# define file for read\n",
    "\n",
    "filename = datasetPath + '/fileTextRead.txt'\n",
    "\n",
    "# print text\n",
    "\n",
    "print(color.CYAN + 'The following file will be read: ' + color.END + filename)"
   ]
  },
  {
   "cell_type": "code",
   "execution_count": 22,
   "metadata": {},
   "outputs": [
    {
     "name": "stdout",
     "output_type": "stream",
     "text": [
      "\u001b[1m\u001b[94m\n",
      "The content of the file /Users/maywong/Documents/bootcamp/datasets/txt/fileTextRead.txt is:\n",
      "\u001b[0m\n",
      "What is Lorem Ipsum?\n",
      "\n",
      "Lorem Ipsum is simply dummy text of the printing and typesetting industry. Lorem Ipsum has been the \n",
      "industry's standard dummy text ever since the 1500s, when an unknown printer took a galley of type \n",
      "and scrambled it to make a type specimen book. It has survived not only five centuries, but also the \n",
      "leap into electronic typesetting, remaining essentially unchanged. It was popularised in the 1960s \n",
      "with the release of Letraset sheets containing Lorem Ipsum passages, and more recently with desktop \n",
      "publishing software like Aldus PageMaker including versions of Lorem Ipsum.\n",
      "\n"
     ]
    }
   ],
   "source": [
    "# call method readFileContent(filename)\n",
    "\n",
    "readFileContent(filename)"
   ]
  },
  {
   "cell_type": "code",
   "execution_count": 23,
   "metadata": {},
   "outputs": [
    {
     "name": "stdout",
     "output_type": "stream",
     "text": [
      "\u001b[1m\u001b[94m\n",
      "The lines of the file /Users/maywong/Documents/bootcamp/datasets/txt/fileTextRead.txt are:\n",
      "\u001b[0m\n",
      "Line 1: What is Lorem Ipsum?\n",
      "Line 2: \n",
      "Line 3: Lorem Ipsum is simply dummy text of the printing and typesetting industry. Lorem Ipsum has been the \n",
      "Line 4: industry's standard dummy text ever since the 1500s, when an unknown printer took a galley of type \n",
      "Line 5: and scrambled it to make a type specimen book. It has survived not only five centuries, but also the \n",
      "Line 6: leap into electronic typesetting, remaining essentially unchanged. It was popularised in the 1960s \n",
      "Line 7: with the release of Letraset sheets containing Lorem Ipsum passages, and more recently with desktop \n",
      "Line 8: publishing software like Aldus PageMaker including versions of Lorem Ipsum.\n"
     ]
    }
   ],
   "source": [
    "# call method readFileLines(filename)\n",
    "\n",
    "readFileLines(filename)"
   ]
  },
  {
   "cell_type": "code",
   "execution_count": 24,
   "metadata": {},
   "outputs": [
    {
     "name": "stdout",
     "output_type": "stream",
     "text": [
      "\u001b[1m\u001b[92mAppend in a existing file\n",
      "\u001b[0m\n",
      "\u001b[1m\u001b[94m\n",
      "The content of the file /Users/maywong/Documents/bootcamp/datasets/txt/fileTextRead.txt is:\n",
      "\u001b[0m\n",
      "What is Lorem Ipsum?\n",
      "\n",
      "Lorem Ipsum is simply dummy text of the printing and typesetting industry. Lorem Ipsum has been the \n",
      "industry's standard dummy text ever since the 1500s, when an unknown printer took a galley of type \n",
      "and scrambled it to make a type specimen book. It has survived not only five centuries, but also the \n",
      "leap into electronic typesetting, remaining essentially unchanged. It was popularised in the 1960s \n",
      "with the release of Letraset sheets containing Lorem Ipsum passages, and more recently with desktop \n",
      "publishing software like Aldus PageMaker including versions of Lorem Ipsum.\n",
      "\n",
      "\u001b[1m\u001b[94m\n",
      "The content of the file /Users/maywong/Documents/bootcamp/datasets/txt/fileTextRead.txt is:\n",
      "\u001b[0m\n",
      "What is Lorem Ipsum?\n",
      "\n",
      "Lorem Ipsum is simply dummy text of the printing and typesetting industry. Lorem Ipsum has been the \n",
      "industry's standard dummy text ever since the 1500s, when an unknown printer took a galley of type \n",
      "and scrambled it to make a type specimen book. It has survived not only five centuries, but also the \n",
      "leap into electronic typesetting, remaining essentially unchanged. It was popularised in the 1960s \n",
      "with the release of Letraset sheets containing Lorem Ipsum passages, and more recently with desktop \n",
      "publishing software like Aldus PageMaker including versions of Lorem Ipsum.\n",
      "\n",
      "\n",
      "Hello World!\n",
      "Today is: 31/07/2020, 23:48:52\n"
     ]
    }
   ],
   "source": [
    "#  call method appendFile(filename) in a exiting file\n",
    "\n",
    "print(color.BOLD + color.GREEN + 'Append in a existing file\\n' + color.END)\n",
    "filename = datasetPath + '/fileTextRead.txt'\n",
    "readFileContent(filename)\n",
    "appendFile(filename)\n",
    "readFileContent(filename)"
   ]
  },
  {
   "cell_type": "code",
   "execution_count": 25,
   "metadata": {},
   "outputs": [
    {
     "name": "stdout",
     "output_type": "stream",
     "text": [
      "\u001b[1m\u001b[92mAppend in a non-existent file\n",
      "\u001b[0m\n",
      "\u001b[1m\u001b[91m\n",
      "ERROR WHILE TRYING READ THE FILE! \n",
      "The file /Users/maywong/Documents/bootcamp/datasets/txt/fileTextReadDontExist.txtdoesn't exist!\u001b[0m\n",
      "\u001b[1m\u001b[94m\n",
      "The content of the file /Users/maywong/Documents/bootcamp/datasets/txt/fileTextReadDontExist.txt is:\n",
      "\u001b[0m\n",
      "\n",
      "\n",
      "Hello World!\n",
      "Today is: 31/07/2020, 23:51:48\n"
     ]
    }
   ],
   "source": [
    "#  call method appendFile(filename) in a non-existent file\n",
    "\n",
    "print(color.BOLD + color.GREEN + 'Append in a non-existent file\\n' + color.END)\n",
    "filename = datasetPath + '/fileTextReadDontExist.txt'\n",
    "readFileContent(filename)\n",
    "appendFile(filename)\n",
    "readFileContent(filename)"
   ]
  },
  {
   "cell_type": "code",
   "execution_count": 26,
   "metadata": {},
   "outputs": [
    {
     "name": "stdout",
     "output_type": "stream",
     "text": [
      "\u001b[1m\u001b[95mWrite (overwrite) an existent file\n",
      "\u001b[0m\n",
      "\u001b[1m\u001b[94m\n",
      "The content of the file /Users/maywong/Documents/bootcamp/datasets/txt/fileTextRead.txt is:\n",
      "\u001b[0m\n",
      "What is Lorem Ipsum?\n",
      "\n",
      "Lorem Ipsum is simply dummy text of the printing and typesetting industry. Lorem Ipsum has been the \n",
      "industry's standard dummy text ever since the 1500s, when an unknown printer took a galley of type \n",
      "and scrambled it to make a type specimen book. It has survived not only five centuries, but also the \n",
      "leap into electronic typesetting, remaining essentially unchanged. It was popularised in the 1960s \n",
      "with the release of Letraset sheets containing Lorem Ipsum passages, and more recently with desktop \n",
      "publishing software like Aldus PageMaker including versions of Lorem Ipsum.\n",
      "\n",
      "\n",
      "Hello World!\n",
      "Today is: 31/07/2020, 23:48:52\n",
      "\u001b[1m\u001b[94m\n",
      "The content of the file /Users/maywong/Documents/bootcamp/datasets/txt/fileTextRead.txt is:\n",
      "\u001b[0m\n",
      "File /Users/maywong/Documents/bootcamp/datasets/txt/fileTextRead.txt is opened in write mode (w)\n",
      "Today is: 06/08/2020, 19:07:16\n"
     ]
    }
   ],
   "source": [
    "# write in an existing file (overwrite)\n",
    "\n",
    "print(color.BOLD + color.PURPLE + 'Write (overwrite) an existent file\\n' + color.END)\n",
    "filename = datasetPath + '/fileTextRead.txt'\n",
    "readFileContent(filename)\n",
    "writeFile(filename)\n",
    "readFileContent(filename)"
   ]
  },
  {
   "cell_type": "code",
   "execution_count": 27,
   "metadata": {},
   "outputs": [
    {
     "name": "stdout",
     "output_type": "stream",
     "text": [
      "\u001b[1m\u001b[95mWrite a non-existent file\n",
      "\u001b[0m\n",
      "\u001b[1m\u001b[91m\n",
      "ERROR WHILE TRYING READ THE FILE! \n",
      "The file /Users/maywong/Documents/bootcamp/datasets/txt/fileTextReadDontExist2.txtdoesn't exist!\u001b[0m\n",
      "\u001b[1m\u001b[94m\n",
      "The content of the file /Users/maywong/Documents/bootcamp/datasets/txt/fileTextReadDontExist2.txt is:\n",
      "\u001b[0m\n",
      "File /Users/maywong/Documents/bootcamp/datasets/txt/fileTextReadDontExist2.txt is opened in write mode (w)\n",
      "Today is: 06/08/2020, 19:08:35\n"
     ]
    }
   ],
   "source": [
    "# write in an non-existing file\n",
    "\n",
    "print(color.BOLD + color.PURPLE + 'Write a non-existent file\\n' + color.END)\n",
    "filename = datasetPath + '/fileTextReadDontExist2.txt'\n",
    "readFileContent(filename)\n",
    "writeFile(filename)\n",
    "readFileContent(filename)"
   ]
  },
  {
   "cell_type": "code",
   "execution_count": 29,
   "metadata": {},
   "outputs": [
    {
     "name": "stdout",
     "output_type": "stream",
     "text": [
      "\u001b[1m\u001b[33mCreate a file that already exist\n",
      "\u001b[0m\n",
      "\u001b[1m\u001b[91m\n",
      "ERROR WHILE TRYING READ THE FILE! \n",
      "The file /Users/maywong/Documents/bootcamp/datasets/txt/fileTextCreate.txtdoesn't exist!\u001b[0m\n",
      "\u001b[1m\u001b[94m\n",
      "The content of the file /Users/maywong/Documents/bootcamp/datasets/txt/fileTextCreate.txt is:\n",
      "\u001b[0m\n",
      "This is a new file created using creation mode (x)\n"
     ]
    }
   ],
   "source": [
    "# create a file\n",
    "\n",
    "print(color.BOLD + color.ORANGE + 'Create a file\\n' + color.END)\n",
    "filename = datasetPath + '/fileTextCreate.txt'\n",
    "readFileContent(filename)\n",
    "createFile(filename)\n",
    "readFileContent(filename)"
   ]
  },
  {
   "cell_type": "code",
   "execution_count": 30,
   "metadata": {},
   "outputs": [
    {
     "name": "stdout",
     "output_type": "stream",
     "text": [
      "The work directory is: /Users/maywong/Documents/bootcamp/pyscripts/jupyter\n",
      "\u001b[1mThe file list and/or directories is:\n",
      "\u001b[0m\n",
      "['fileTextReadDontExist2.txt', 'fileTextCreate.txt', 'fileTextReadDontExist.txt', 'fileTextRead.txt']\n"
     ]
    }
   ],
   "source": [
    "# work directory\n",
    "\n",
    "working_directory = os.getcwd()\n",
    "\n",
    "print('The work directory is: ' + working_directory)\n",
    "\n",
    "# files from a specific directory\n",
    "\n",
    "filelist = os.listdir(datasetPath)\n",
    "print(color.BOLD + 'The file list and/or directories is:\\n' + color.END)\n",
    "print(filelist)"
   ]
  },
  {
   "cell_type": "code",
   "execution_count": 32,
   "metadata": {},
   "outputs": [
    {
     "name": "stdout",
     "output_type": "stream",
     "text": [
      "\u001b[1m\n",
      "Reading file content:\n",
      "\u001b[0m/Users/maywong/Documents/bootcamp/datasets/txt//fileTextReadDontExist2.txt\n",
      "File /Users/maywong/Documents/bootcamp/datasets/txt/fileTextReadDontExist2.txt is opened in write mode (w)\n",
      "Today is: 06/08/2020, 19:08:35\n",
      "\u001b[1m\n",
      "Reading file content:\n",
      "\u001b[0m/Users/maywong/Documents/bootcamp/datasets/txt//fileTextCreate.txt\n",
      "This is a new file created using creation mode (x)\n",
      "\u001b[1m\n",
      "Reading file content:\n",
      "\u001b[0m/Users/maywong/Documents/bootcamp/datasets/txt//fileTextReadDontExist.txt\n",
      "\n",
      "\n",
      "Hello World!\n",
      "Today is: 31/07/2020, 23:51:48\n",
      "\u001b[1m\n",
      "Reading file content:\n",
      "\u001b[0m/Users/maywong/Documents/bootcamp/datasets/txt//fileTextRead.txt\n",
      "File /Users/maywong/Documents/bootcamp/datasets/txt/fileTextRead.txt is opened in write mode (w)\n",
      "Today is: 06/08/2020, 19:07:16\n"
     ]
    }
   ],
   "source": [
    "# read the content of each file\n",
    "\n",
    "for filename in os.listdir(datasetPath):\n",
    "    if os.path.isfile(os.path.join(datasetPath, filename)):\n",
    "        fullfilename = datasetPath + '//' + filename\n",
    "        try:\n",
    "            print(color.BOLD + '\\nReading file content:\\n' + color.END + fullfilename)\n",
    "            fileobject = open(fullfilename, \"r\", encoding = 'utf-8')\n",
    "            filecontents = fileobject.read()\n",
    "            print(filecontents)\n",
    "            fileobject.close()\n",
    "        except FileNotFoundError:\n",
    "            print(color.BOLD + color.RED + '\\nERROR: FILE DO NOT EXIST\\n' + color.END)\n",
    "    else:\n",
    "        print(color.BOLD + color.BLUE + '\\n' + filename + ' is not a file\\n' + color.END)"
   ]
  },
  {
   "cell_type": "code",
   "execution_count": 36,
   "metadata": {},
   "outputs": [
    {
     "name": "stdout",
     "output_type": "stream",
     "text": [
      "File list: \n",
      "[]\n",
      "File list: \n",
      "[]\n"
     ]
    }
   ],
   "source": [
    "# remove all files from a directory\n",
    "\n",
    "folder = '/Users/maywong/Documents/bootcamp/datasets/testremove'\n",
    "\n",
    "filelist = os.listdir(folder)\n",
    "print('File list: ',sep=\" \")\n",
    "print(filelist)\n",
    "\n",
    "for filename in os.listdir(folder):\n",
    "    try:\n",
    "        if os.path.isfile(os.path.join(folder, filename)):\n",
    "            filepath = os.path.join(folder, filename)\n",
    "            os.unlink(filepath)\n",
    "    except Exception as e:\n",
    "        print('Failed to exclude %s. \\nReason of failing: %s' % (filepath, e))\n",
    "\n",
    "filelist = os.listdir(folder)\n",
    "print('File list: ',sep=\" \")\n",
    "print(filelist)"
   ]
  },
  {
   "cell_type": "code",
   "execution_count": 39,
   "metadata": {},
   "outputs": [
    {
     "name": "stdout",
     "output_type": "stream",
     "text": [
      "Files in the source: \n",
      "['fileTextReadDontExist2.txt', 'fileTextCreate.txt', 'fileTextReadDontExist.txt', 'fileTextRead.txt']\n",
      "Files in the target: \n",
      "[]\n",
      "Files in the source after moving: \n",
      "[]\n",
      "Files in the target after moving: \n",
      "['fileTextReadDontExist2.txt', 'fileTextCreate.txt', 'fileTextReadDontExist.txt', 'fileTextRead.txt']\n"
     ]
    }
   ],
   "source": [
    "# moving files\n",
    "\n",
    "import shutil\n",
    "\n",
    "folderSource = '/Users/maywong/Documents/bootcamp/datasets/txt'\n",
    "folderTarget = '/Users/maywong/Documents/bootcamp/datasets/testremove'\n",
    "\n",
    "sourceList = os.listdir(folderSource)\n",
    "targetList = os.listdir(folderTarget)\n",
    "\n",
    "print('Files in the source: ',sep=\" \")\n",
    "print(sourceList)\n",
    "print('Files in the target: ',sep=\" \")\n",
    "print(targetList)\n",
    "\n",
    "for filename in sourceList:\n",
    "    try:\n",
    "        if os.path.isfile(os.path.join(folderSource, filename)):\n",
    "            filepath = os.path.join(folderSource, filename)\n",
    "            shutil.move(filepath, folderTarget)\n",
    "    except Exception as e:\n",
    "        print('Failed to move %s. \\nReason of failing: %s' % (filepath, e))\n",
    "    \n",
    "sourceList = os.listdir(folderSource)\n",
    "targetList = os.listdir(folderTarget)\n",
    "\n",
    "print('Files in the source after moving: ',sep=\" \")\n",
    "print(sourceList)\n",
    "print('Files in the target after moving: ',sep=\" \")\n",
    "print(targetList)"
   ]
  },
  {
   "cell_type": "code",
   "execution_count": 40,
   "metadata": {},
   "outputs": [
    {
     "name": "stdout",
     "output_type": "stream",
     "text": [
      "Files in the source after moving: \n",
      "['fileTextReadDontExist2.txt', 'fileTextCreate.txt', 'fileTextReadDontExist.txt', 'fileTextRead.txt']\n",
      "Files in the target after moving: \n",
      "['fileTextReadDontExist2.txt', 'fileTextCreate.txt', 'fileTextReadDontExist.txt', 'fileTextRead.txt']\n"
     ]
    }
   ],
   "source": [
    "# copy files\n",
    "\n",
    "sourceList = os.listdir(folderSource)\n",
    "targetList = os.listdir(folderTarget)\n",
    "\n",
    "for filename in targetList:\n",
    "    try:\n",
    "        if os.path.isfile(os.path.join(folderTarget, filename)):\n",
    "            filepath = os.path.join(folderTarget, filename)\n",
    "            filepath2 = os.path.join(folderSource, filename)\n",
    "            shutil.copy(filepath, filepath2)\n",
    "    except Exception as e:\n",
    "        print('Failed to copy %s. \\nReason of failing: %s' % (filepath, e))\n",
    "        \n",
    "sourceList = os.listdir(folderSource)\n",
    "targetList = os.listdir(folderTarget)\n",
    "\n",
    "print('Files in the source after copy: ',sep=\" \")\n",
    "print(sourceList)\n",
    "print('Files in the target after copy: ',sep=\" \")\n",
    "print(targetList)"
   ]
  },
  {
   "cell_type": "code",
   "execution_count": 41,
   "metadata": {},
   "outputs": [
    {
     "name": "stdout",
     "output_type": "stream",
     "text": [
      "File list: \n",
      "['fileTextReadDontExist2.txt', 'fileTextCreate.txt', 'fileTextReadDontExist.txt', 'fileTextRead.txt']\n",
      "File list after rename: \n",
      "['fileTextReadDontExist2.txt', 'fileTextCreate.txt', 'fileTextReadDontExist.txt', 'renameWorked.txt', 'fileTextRead.txt']\n"
     ]
    }
   ],
   "source": [
    "# rename file\n",
    "\n",
    "fileNameSource = 'rename.txt'\n",
    "fileNameTarget = 'renameWorked.txt'\n",
    "\n",
    "old_file = os.path.join(folderSource, fileNameSource)\n",
    "new_file = os.path.join(folderTarget, fileNameTarget)\n",
    "\n",
    "filelist = os.listdir(folderTarget)\n",
    "print('File list: ',sep=\" \")\n",
    "print(filelist)\n",
    "\n",
    "os.rename(old_file, new_file)\n",
    "\n",
    "filelist = os.listdir(folderTarget)\n",
    "print('File list after rename: ',sep=\" \")\n",
    "print(filelist)"
   ]
  },
  {
   "cell_type": "code",
   "execution_count": null,
   "metadata": {},
   "outputs": [],
   "source": []
  }
 ],
 "metadata": {
  "kernelspec": {
   "display_name": "Python 3",
   "language": "python",
   "name": "python3"
  },
  "language_info": {
   "codemirror_mode": {
    "name": "ipython",
    "version": 3
   },
   "file_extension": ".py",
   "mimetype": "text/x-python",
   "name": "python",
   "nbconvert_exporter": "python",
   "pygments_lexer": "ipython3",
   "version": "3.8.2"
  }
 },
 "nbformat": 4,
 "nbformat_minor": 4
}
